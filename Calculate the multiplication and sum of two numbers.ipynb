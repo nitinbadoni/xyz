{
 "cells": [
  {
   "cell_type": "code",
   "execution_count": 4,
   "id": "9774cf50",
   "metadata": {},
   "outputs": [
    {
     "name": "stdout",
     "output_type": "stream",
     "text": [
      " enter first number :10\n",
      " enter second number :40\n",
      "addition is : 50\n"
     ]
    }
   ],
   "source": [
    "#Given two integer numbers return their product only if the product is greater than 1000, else return their sum \n",
    "\n",
    "\n",
    "n1 = int(input(' enter first number :'))\n",
    "n2 = int(input(' enter second number :'))\n",
    "\n",
    "if (n1 * n2) > 1000:\n",
    "    print('muliplication is :',n1*n2)\n",
    "    \n",
    "else:\n",
    "    print('addition is :',n1+n2 )\n"
   ]
  },
  {
   "cell_type": "code",
   "execution_count": null,
   "id": "6101f747",
   "metadata": {},
   "outputs": [],
   "source": []
  },
  {
   "cell_type": "code",
   "execution_count": null,
   "id": "5876ddb0",
   "metadata": {},
   "outputs": [],
   "source": []
  }
 ],
 "metadata": {
  "kernelspec": {
   "display_name": "Python 3",
   "language": "python",
   "name": "python3"
  },
  "language_info": {
   "codemirror_mode": {
    "name": "ipython",
    "version": 3
   },
   "file_extension": ".py",
   "mimetype": "text/x-python",
   "name": "python",
   "nbconvert_exporter": "python",
   "pygments_lexer": "ipython3",
   "version": "3.8.8"
  }
 },
 "nbformat": 4,
 "nbformat_minor": 5
}
